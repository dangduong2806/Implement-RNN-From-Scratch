{
 "cells": [
  {
   "cell_type": "code",
   "execution_count": 9,
   "id": "be94a10b",
   "metadata": {},
   "outputs": [],
   "source": [
    "# Ý tưởng:\n",
    "# Biểu diễn mỗi ký tự bằng one-hot\n",
    "# Ở mỗi bước t:\n",
    "#     Thực hiện tính công thức trạng thái ẩn\n",
    "#     Đầu ra đưa qua softmax\n",
    "#     loss là cross-entropy loss\n",
    "# Backpropagation: Tính gradient từ T -> 1, cộng dồn qua thời gian\n",
    "# Có gradient clipping tránh nổ gradient\n",
    "import numpy as np"
   ]
  },
  {
   "cell_type": "code",
   "execution_count": 10,
   "id": "16a7bc76",
   "metadata": {},
   "outputs": [],
   "source": [
    "def one_hot(idx, vocab_size):\n",
    "    # vector v có vocab_size hàng và 1 cột\n",
    "    v = np.zeros((vocab_size, 1))\n",
    "    # Cả hàng idx sẽ toàn giá trị 1.0\n",
    "    v[idx] = 1.0\n",
    "    return v\n",
    "def softmax(z):\n",
    "    exp = np.exp(z)\n",
    "    return exp / np.sum(exp)\n"
   ]
  },
  {
   "cell_type": "code",
   "execution_count": 11,
   "id": "c95f1038",
   "metadata": {},
   "outputs": [
    {
     "data": {
      "text/plain": [
       "array([[0., 0.],\n",
       "       [1., 1.],\n",
       "       [0., 0.]])"
      ]
     },
     "execution_count": 11,
     "metadata": {},
     "output_type": "execute_result"
    }
   ],
   "source": [
    "v = np.zeros((3, 2))\n",
    "v[1] = 1.0\n",
    "v"
   ]
  },
  {
   "cell_type": "code",
   "execution_count": null,
   "id": "c1442ed7",
   "metadata": {},
   "outputs": [],
   "source": [
    "# RNN thuần\n",
    "class RNN:\n",
    "    def __init__(self, input_size, hidden_size, output_size):\n",
    "        self.input_size = input_size\n",
    "        self.hidden_size = hidden_size\n",
    "        self.output_size = output_size\n",
    "        # Khởi tạo trọng số gồm value + và -\n",
    "        s = 0.01\n",
    "        # ma trận gồm hidden_size hàng, input_size cột\n",
    "        self.Wxh = np.random.randn(hidden_size, input_size) * s\n",
    "        # ma trận gồm hidden_size hàng, hidden_size cột\n",
    "        self.Whh = np.random.randn(hidden_size, hidden_size) * s\n",
    "        self.bh = np.zeros((hidden_size, 1))\n",
    "        # ma trận gồm output_size hàng, hidden_size cột\n",
    "        self.Why = np.random.randn(output_size, hidden_size) * s\n",
    "        self.by = np.zeros((output_size, 1))\n",
    "\n",
    "        #Adam\n",
    "        self.m = {k: np.zeros_like(v) for k, v in self.params().items()}\n",
    "        self.v = {k: np.zeros_like(v) for k, v in self.params().items()}\n",
    "        self.t = 0\n",
    "\n",
    "    def params(self):\n",
    "        return {\n",
    "            \"Wxh\": self.Wxh, \"Whh\": self.Whh, \"bh\": self.bh,\n",
    "            \"Why\": self.Why, \"by\": self.by\n",
    "        }\n",
    "    def forward(self, inputs, prev_hidden_state):\n",
    "        # inputs: list chỉ số của ký tự [x1, x2,...]\n",
    "        # prev_hidden_state : hidden state ban đầu\n",
    "        # return cache(xs, hs, os, ps) và hidden last\n",
    "        # xs, hs, os, ps chứa các xt, ht, ot, pt trong công thức của RNN\n",
    "        xs, hs, os, ps = {}, {}, {}, {}\n",
    "        # hidden state trước t = 0\n",
    "        hs[-1] = np.copy(prev_hidden_state)\n",
    "        loss = 0.0\n",
    "        for t, ix in enumerate(inputs):\n",
    "            xs[t] = one_hot(ix, self.input_size)\n",
    "            hs[t] = np.tanh(self.Wxh @ xs[t] + self.Whh @ hs[t-1] + self.bh)\n",
    "            os[t] = self.Why @ hs[t] + self.by\n",
    "            ps[t] = softmax(os[t])\n",
    "        cache = (xs, hs, os, ps)\n",
    "        # trả về hidden state cuối cùng làm input cho batch tiếp theo\n",
    "        # trả về cache để tính backpropagation\n",
    "        return cache, hs[len(inputs)-1]\n",
    "    def loss_and_grads(self, inputs, targets, prev_hidden_state):\n",
    "        (xs, hs, os, ps), hlast = self.forward(inputs, prev_hidden_state=prev_hidden_state)\n",
    "        loss = 0.0\n",
    "        # Tính loss\n",
    "        for t in range(len(inputs)):\n",
    "            loss += -np.log(ps[t][targets[t],0] + 1e-12)\n",
    "        # Khởi tạo grads, tạo ra ma trận 0 giống với các ma trận trong ngoặc\n",
    "        dWxh = np.zeros_like(self.Wxh)\n",
    "        dWhh = np.zeros_like(self.Whh)\n",
    "        dbh = np.zeros_like(self.bh)\n",
    "        dWhy = np.zeros_like(self.Why)\n",
    "        dby = np.zeros_like(self.by)\n",
    "        dh_next = np.zeros(hs[0])\n",
    "\n",
    "        # Backpropagation through time\n",
    "        for t in reversed(range(len(inputs))):\n",
    "            dy = np.copy(ps[t])\n",
    "            dy[targets[t]] -= 1.0\n",
    "            dWhy += dy @ hs[t].T\n",
    "            dby += dy\n",
    "\n",
    "            dh = self.Why.T @ dy + dh_next\n",
    "            dh_raw = (1 - hs[t] * hs[t]) * dh      # tanh'\n",
    "            dbh  += dh_raw\n",
    "            dWxh += dh_raw @ xs[t].T\n",
    "            dWhh += dh_raw @ hs[t-1].T\n",
    "            dh_next = self.Whh.T @ dh_raw\n",
    "        \n",
    "        # clipping tránh nổ gradient\n",
    "        for dparam in [dWxh, dWhh, dWhy, dby]:\n",
    "            np.clip(dparam, -5, 5, out=dparam)\n",
    "        \n",
    "        grads = {\"Wxh\":dWxh, \"Whh\":dWhh, \"bh\":dbh, \"Why\": dWhy, \"by\": dby}\n",
    "        # loss tổng lỗi của chuỗi\n",
    "        # grads dictionary chứa các gradient để cập nhật trọng số\n",
    "        # hlast là hidden cuối cùng làm prev hidden state cho batch tiếp theo\n",
    "        return loss, grads, hlast\n",
    "    \n",
    "    # Cập nhật trọng số dùng Adam\n",
    "    def step(self, grads, lr=1e-2, beta1=0.9, beta2=0.999, eps=1e-8):\n",
    "        # Số lần update (để hiệu chỉnh bias correction)\n",
    "        self.t += 1\n",
    "        # Cập nhật trọng số\n",
    "        for k in self.params().keys():\n",
    "            g = grads[k]\n",
    "            self.m[k] = beta1 * self.m[k] + (1-beta1) * g\n",
    "            self.v[k] = beta2 * self.v[k] + (1-beta2) * (g * g)\n",
    "\n",
    "            m_hat = self.m[k] / (1 - beta1**self.t)\n",
    "            v_hat = self.v[k] / (1 - beta2**self.t)\n",
    "\n",
    "            self.params()[k] -= lr * m_hat / (np.sqrt(v_hat) + eps)\n",
    "        \n",
    "    "
   ]
  },
  {
   "cell_type": "code",
   "execution_count": 13,
   "id": "3342e65b",
   "metadata": {},
   "outputs": [
    {
     "data": {
      "text/plain": [
       "array([[-0.58193921, -2.34964456, -0.07479449,  1.34274883,  0.21664595],\n",
       "       [-0.13370841, -1.02788999,  1.43742827, -0.54657575,  0.69828735],\n",
       "       [ 0.65384239,  0.05486468,  0.2140975 , -1.62696669,  1.65284889]])"
      ]
     },
     "execution_count": 13,
     "metadata": {},
     "output_type": "execute_result"
    }
   ],
   "source": [
    "wxh = np.random.randn(3, 5)\n",
    "wxh"
   ]
  },
  {
   "cell_type": "code",
   "execution_count": 14,
   "id": "192b43c6",
   "metadata": {},
   "outputs": [
    {
     "name": "stdout",
     "output_type": "stream",
     "text": [
      "[[-0.92710378  1.92306457  0.7018871   1.05275921  0.4326244 ]\n",
      " [-0.36930456 -0.08725843  1.72317063 -0.36386441  0.08908316]\n",
      " [ 0.03981613 -2.25674317  0.52674794 -0.98753193  1.21862034]]\n",
      "---------\n",
      "[[0. 0. 0. 0. 0.]\n",
      " [0. 0. 0. 0. 0.]\n",
      " [0. 0. 0. 0. 0.]]\n"
     ]
    }
   ],
   "source": [
    "Wxh = np.random.randn(3, 5)\n",
    "print(Wxh)\n",
    "dwxh = np.zeros_like(Wxh)\n",
    "print(\"---------\")\n",
    "print(dwxh)"
   ]
  },
  {
   "cell_type": "code",
   "execution_count": 15,
   "id": "f11478e4",
   "metadata": {},
   "outputs": [
    {
     "name": "stdout",
     "output_type": "stream",
     "text": [
      "Wxh (hidden size, input size): \n",
      " [[-0.0246867  -0.01388412 -0.01374919 -0.00191876]\n",
      " [-0.01397797  0.00897254 -0.01009596 -0.00666188]\n",
      " [ 0.00431107  0.00232595 -0.01185167 -0.00438465]] \n",
      "\n",
      "Whh (hidden size, hidden size):\n",
      " [[-0.00915568  0.00113654  0.01755194]\n",
      " [-0.00070391  0.00096014 -0.00965476]\n",
      " [ 0.00554101 -0.00473686 -0.00104836]] \n",
      "\n",
      "bh (hidden size):\n",
      " [[0.]\n",
      " [0.]\n",
      " [0.]] \n",
      "\n",
      "Why (output size, hidden size): \n",
      " [[-0.0064983   0.01020995 -0.00232772]\n",
      " [-0.0039177   0.0006422  -0.00051127]\n",
      " [-0.00115289 -0.0075742  -0.001058  ]\n",
      " [-0.00283878 -0.01293675 -0.0020665 ]] \n",
      "\n",
      "by (output size): \n",
      " [[0.]\n",
      " [0.]\n",
      " [0.]\n",
      " [0.]] \n",
      "\n"
     ]
    }
   ],
   "source": [
    "s = 0.01\n",
    "input_size = 4\n",
    "hidden_size = 3\n",
    "output_size = input_size\n",
    "# ma trận gồm hidden_size hàng, input_size cột\n",
    "Wxh = np.random.randn(hidden_size, input_size) * s\n",
    "print(\"Wxh (hidden size, input size): \\n\",Wxh,\"\\n\")\n",
    "# ma trận gồm hidden_size hàng, hidden_size cột\n",
    "Whh = np.random.randn(hidden_size, hidden_size) * s\n",
    "print(\"Whh (hidden size, hidden size):\\n\",Whh, \"\\n\")\n",
    "bh = np.zeros((hidden_size, 1))\n",
    "print(\"bh (hidden size):\\n\",bh, \"\\n\")\n",
    "# ma trận gồm output_size hàng, hidden_size cột\n",
    "Why = np.random.randn(output_size, hidden_size) * s\n",
    "print(\"Why (output size, hidden size): \\n\",Why, \"\\n\")\n",
    "by = np.zeros((output_size, 1))\n",
    "print(\"by (output size): \\n\",by, \"\\n\")"
   ]
  },
  {
   "cell_type": "code",
   "execution_count": 16,
   "id": "2fedf5bb",
   "metadata": {},
   "outputs": [
    {
     "name": "stdout",
     "output_type": "stream",
     "text": [
      "Giá trị thứ 0 của input là:\n",
      "[[0.]\n",
      " [1.]\n",
      " [0.]\n",
      " [0.]]\n",
      "Có hidden state thứ 0 là:\n",
      "[[-0.01388323]\n",
      " [ 0.0089723 ]\n",
      " [ 0.00232595]]\n",
      "Output thứ 0 của input thứ 0 là:\n",
      " [[ 1.76410078e-04]\n",
      " [ 5.89631536e-05]\n",
      " [-5.44130023e-05]\n",
      " [-8.14676239e-05]]\n",
      "Có xác suất:\n",
      " [[0.25003789]\n",
      " [0.25000852]\n",
      " [0.24998018]\n",
      " [0.24997341]]\n",
      "---------------------------------------------------------\n",
      "Giá trị thứ 1 của input là:\n",
      "[[0.]\n",
      " [0.]\n",
      " [1.]\n",
      " [0.]]\n",
      "Có hidden state thứ 1 là:\n",
      "[[-0.01357023]\n",
      " [-0.01009969]\n",
      " [-0.01197296]]\n",
      "Output thứ 1 của input thứ 1 là:\n",
      " [[1.29358802e-05]\n",
      " [5.27994594e-05]\n",
      " [1.04809396e-04]\n",
      " [1.93922163e-04]]\n",
      "Có xác suất:\n",
      " [[0.24998045]\n",
      " [0.24999042]\n",
      " [0.25000342]\n",
      " [0.2500257 ]]\n",
      "---------------------------------------------------------\n",
      "Giá trị thứ 2 của input là:\n",
      "[[0.]\n",
      " [0.]\n",
      " [0.]\n",
      " [1.]]\n",
      "Có hidden state thứ 2 là:\n",
      "[[-0.00201614]\n",
      " [-0.00654633]\n",
      " [-0.00439942]]\n",
      "Output thứ 2 của input thứ 2 là:\n",
      " [[-4.34956033e-05]\n",
      " [ 5.94386033e-06]\n",
      " [ 5.65621678e-05]\n",
      " [ 9.95030386e-05]]\n",
      "Có xác suất:\n",
      " [[0.24998172]\n",
      " [0.24999408]\n",
      " [0.25000673]\n",
      " [0.25001747]]\n",
      "---------------------------------------------------------\n"
     ]
    }
   ],
   "source": [
    "inputs = [1, 2, 3]\n",
    "input_size = 4\n",
    "xs, hs, os, ps = {}, {}, {}, {}\n",
    "hs[-1] = np.zeros((hidden_size,1))\n",
    "for t, ix in enumerate(inputs):\n",
    "    xs[t] = one_hot(ix, input_size)\n",
    "    hs[t] = np.tanh(Wxh @ xs[t] + Whh @ hs[t-1] + bh)\n",
    "    os[t] = Why @ hs[t] + by\n",
    "    ps[t] = softmax(os[t])\n",
    "    print(f\"Giá trị thứ {t} của input là:\\n{xs[t]}\\nCó hidden state thứ {t} là:\\n{hs[t]}\")\n",
    "    print(f\"Output thứ {t} của input thứ {t} là:\\n {os[t]}\\nCó xác suất:\\n {ps[t]}\")\n",
    "    print(\"---------------------------------------------------------\")"
   ]
  },
  {
   "cell_type": "code",
   "execution_count": null,
   "id": "e8aa788d",
   "metadata": {},
   "outputs": [],
   "source": []
  }
 ],
 "metadata": {
  "kernelspec": {
   "display_name": "duong_kernel_2",
   "language": "python",
   "name": "duong_kernel_2"
  },
  "language_info": {
   "codemirror_mode": {
    "name": "ipython",
    "version": 3
   },
   "file_extension": ".py",
   "mimetype": "text/x-python",
   "name": "python",
   "nbconvert_exporter": "python",
   "pygments_lexer": "ipython3",
   "version": "3.10.0"
  }
 },
 "nbformat": 4,
 "nbformat_minor": 5
}

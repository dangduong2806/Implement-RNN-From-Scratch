{
 "cells": [
  {
   "cell_type": "code",
   "execution_count": 1,
   "id": "be94a10b",
   "metadata": {},
   "outputs": [],
   "source": [
    "# Ý tưởng:\n",
    "# Biểu diễn mỗi ký tự bằng one-hot\n",
    "# Ở mỗi bước t:\n",
    "#     Thực hiện tính công thức trạng thái ẩn\n",
    "#     Đầu ra đưa qua softmax\n",
    "#     loss là cross-entropy loss\n",
    "# Backpropagation: Tính gradient từ T -> 1, cộng dồn qua thời gian\n",
    "# Có gradient clipping tránh nổ gradient\n",
    "import numpy as np"
   ]
  },
  {
   "cell_type": "code",
   "execution_count": 2,
   "id": "16a7bc76",
   "metadata": {},
   "outputs": [],
   "source": [
    "def one_hot(idx, vocab_size):\n",
    "    # vector v có vocab_size hàng và 1 cột\n",
    "    v = np.zeros((vocab_size, 1))\n",
    "    # Cả hàng idx sẽ toàn giá trị 1.0\n",
    "    v[idx] = 1.0\n",
    "    return v\n",
    "def softmax(z):\n",
    "    exp = np.exp(z)\n",
    "    return exp / np.sum(exp)\n"
   ]
  },
  {
   "cell_type": "code",
   "execution_count": 3,
   "id": "c95f1038",
   "metadata": {},
   "outputs": [
    {
     "data": {
      "text/plain": [
       "array([[0., 0.],\n",
       "       [1., 1.],\n",
       "       [0., 0.]])"
      ]
     },
     "execution_count": 3,
     "metadata": {},
     "output_type": "execute_result"
    }
   ],
   "source": [
    "v = np.zeros((3, 2))\n",
    "v[1] = 1.0\n",
    "v"
   ]
  },
  {
   "cell_type": "code",
   "execution_count": null,
   "id": "c1442ed7",
   "metadata": {},
   "outputs": [],
   "source": [
    "# RNN thuần\n",
    "class RNN:\n",
    "    def __init__(self, input_size, hidden_size, output_size):\n",
    "        self.input_size = input_size\n",
    "        self.hidden_size = hidden_size\n",
    "        self.output_size = output_size\n",
    "        # Khởi tạo trọng số gồm value + và -\n",
    "        s = 0.01\n",
    "        # ma trận gồm hidden_size hàng, input_size cột\n",
    "        self.Wxh = np.random.randn(hidden_size, input_size) * s\n",
    "        # ma trận gồm hidden_size hàng, hidden_size cột\n",
    "        self.Whh = np.random.randn(hidden_size, hidden_size) * s\n",
    "        self.bh = np.zeros((hidden_size, 1))\n",
    "        # ma trận gồm output_size hàng, hidden_size cột\n",
    "        self.Why = np.random.randn(output_size, hidden_size) * s\n",
    "        self.by = np.zeros((output_size, 1))\n",
    "    def params(self):\n",
    "        return {\n",
    "            \"Wxh\": self.Wxh, \"Whh\": self.Whh, \"bh\": self.bh,\n",
    "            \"Why\": self.Why, \"by\": self.by\n",
    "        }\n",
    "    def forward(self, inputs, prev_hidden_state):\n",
    "        # inputs: list chỉ số của ký tự [x1, x2,...]\n",
    "        # prev_hidden_state : hidden state ban đầu\n",
    "        # return cache(xs, hs, os, ps) và hidden last\n",
    "        # xs, hs, os, ps chứa các xt, ht, ot, pt trong công thức của RNN\n",
    "        xs, hs, os, ps = {}, {}, {}, {}\n",
    "        # hidden state trước t = 0\n",
    "        hs[-1] = np.copy(prev_hidden_state)\n",
    "        loss = 0.0\n",
    "        for t, ix in enumerate(inputs):\n",
    "            xs[t] = one_hot(ix, self.input_size)\n",
    "            hs[t] = np.tanh(self.Wxh @ xs[t] + self.Whh @ hs[t-1] + self.bh)\n",
    "            os[t] = self.Why @ hs[t] + self.by\n",
    "            ps[t] = softmax(os[t])\n",
    "        cache = (xs, hs, os, ps)\n",
    "        # trả về hidden state cuối cùng làm input cho batch tiếp theo\n",
    "        # trả về cache để tính backpropagation\n",
    "        return cache, hs[len(inputs)-1]\n",
    "    def loss_and_grads(self, inputs, targets, prev_hidden_state):\n",
    "        (xs, hs, os, ps), hlast = self.forward(inputs, prev_hidden_state=prev_hidden_state)\n",
    "        loss = 0.0\n",
    "        # Tính loss\n",
    "        for t in range(len(inputs)):\n",
    "            loss += -np.log(ps[t][targets[t],0] + 1e-12)\n",
    "        "
   ]
  },
  {
   "cell_type": "code",
   "execution_count": 5,
   "id": "3342e65b",
   "metadata": {},
   "outputs": [
    {
     "data": {
      "text/plain": [
       "array([[ 1.34879863,  0.80673493,  2.01732609,  1.00962568, -0.71128231],\n",
       "       [-0.37936053, -0.35164814, -0.54497114,  1.66028067, -0.21830353],\n",
       "       [-0.12995255,  0.17360866,  0.39169758,  0.72847171, -0.27522642]])"
      ]
     },
     "execution_count": 5,
     "metadata": {},
     "output_type": "execute_result"
    }
   ],
   "source": [
    "wxh = np.random.randn(3, 5)\n",
    "wxh"
   ]
  },
  {
   "cell_type": "code",
   "execution_count": 6,
   "id": "f11478e4",
   "metadata": {},
   "outputs": [
    {
     "name": "stdout",
     "output_type": "stream",
     "text": [
      "Wxh (hidden size, input size): \n",
      " [[ 0.00501531 -0.00542057  0.0207437  -0.02535079]\n",
      " [ 0.006724    0.021044   -0.00072248  0.00302208]\n",
      " [ 0.00841048  0.01661836  0.00136355  0.000384  ]] \n",
      "\n",
      "Whh (hidden size, hidden size):\n",
      " [[ 0.0086436  -0.02502921 -0.00266082]\n",
      " [-0.03130735 -0.01074938 -0.00490338]\n",
      " [-0.00184732 -0.0058222  -0.00522432]] \n",
      "\n",
      "bh (hidden size):\n",
      " [[0.]\n",
      " [0.]\n",
      " [0.]] \n",
      "\n",
      "Why (output size, hidden size): \n",
      " [[-0.00606778  0.00577124  0.01541739]\n",
      " [ 0.02415788 -0.01382654  0.00969458]\n",
      " [-0.00489479  0.0059564  -0.00358817]\n",
      " [-0.0096404   0.01133897  0.01170806]] \n",
      "\n",
      "by (output size): \n",
      " [[0.]\n",
      " [0.]\n",
      " [0.]\n",
      " [0.]] \n",
      "\n"
     ]
    }
   ],
   "source": [
    "s = 0.01\n",
    "input_size = 4\n",
    "hidden_size = 3\n",
    "output_size = input_size\n",
    "# ma trận gồm hidden_size hàng, input_size cột\n",
    "Wxh = np.random.randn(hidden_size, input_size) * s\n",
    "print(\"Wxh (hidden size, input size): \\n\",Wxh,\"\\n\")\n",
    "# ma trận gồm hidden_size hàng, hidden_size cột\n",
    "Whh = np.random.randn(hidden_size, hidden_size) * s\n",
    "print(\"Whh (hidden size, hidden size):\\n\",Whh, \"\\n\")\n",
    "bh = np.zeros((hidden_size, 1))\n",
    "print(\"bh (hidden size):\\n\",bh, \"\\n\")\n",
    "# ma trận gồm output_size hàng, hidden_size cột\n",
    "Why = np.random.randn(output_size, hidden_size) * s\n",
    "print(\"Why (output size, hidden size): \\n\",Why, \"\\n\")\n",
    "by = np.zeros((output_size, 1))\n",
    "print(\"by (output size): \\n\",by, \"\\n\")"
   ]
  },
  {
   "cell_type": "code",
   "execution_count": null,
   "id": "2fedf5bb",
   "metadata": {},
   "outputs": [
    {
     "name": "stdout",
     "output_type": "stream",
     "text": [
      "Giá trị thứ 0 của input là:\n",
      "[[0.]\n",
      " [1.]\n",
      " [0.]\n",
      " [0.]]\n",
      "Có hidden state thứ 0 là:\n",
      "[[-0.00542051]\n",
      " [ 0.0210409 ]\n",
      " [ 0.01661683]]\n",
      "Output thứ 0 của input thứ 0 là:\n",
      " [[ 4.10510691e-04]\n",
      " [-2.60777709e-04]\n",
      " [ 9.22361351e-05]\n",
      " [ 4.85388767e-04]]\n",
      "Có xác suất:\n",
      " [[0.25005716]\n",
      " [0.24988936]\n",
      " [0.24997759]\n",
      " [0.25007589]]\n",
      "---------------------------------------------------------\n",
      "Giá trị thứ 1 của input là:\n",
      "[[0.]\n",
      " [0.]\n",
      " [1.]\n",
      " [0.]]\n",
      "Có hidden state thứ 1 là:\n",
      "[[ 0.02012328]\n",
      " [-0.00086044]\n",
      " [ 0.00116425]]\n",
      "Output thứ 1 của input thứ 1 là:\n",
      " [[-0.00010912]\n",
      " [ 0.00050932]\n",
      " [-0.0001078 ]\n",
      " [-0.00019012]]\n",
      "Có xác suất:\n",
      " [[0.24996632]\n",
      " [0.25012096]\n",
      " [0.24996665]\n",
      " [0.24994607]]\n",
      "---------------------------------------------------------\n",
      "Giá trị thứ 2 của input là:\n",
      "[[0.]\n",
      " [0.]\n",
      " [0.]\n",
      " [1.]]\n",
      "Có hidden state thứ 2 là:\n",
      "[[-0.0251531 ]\n",
      " [ 0.00239561]\n",
      " [ 0.00034575]]\n",
      "Output thứ 2 của input thứ 2 là:\n",
      " [[ 0.00017178]\n",
      " [-0.00063742]\n",
      " [ 0.00013615]\n",
      " [ 0.0002737 ]]\n",
      "Có xác suất:\n",
      " [[0.25004642]\n",
      " [0.24984416]\n",
      " [0.25003751]\n",
      " [0.25007191]]\n",
      "---------------------------------------------------------\n"
     ]
    }
   ],
   "source": [
    "inputs = [1, 2, 3]\n",
    "input_size = 4\n",
    "xs, hs, os, ps = {}, {}, {}, {}\n",
    "hs[-1] = np.zeros((hidden_size,1))\n",
    "for t, ix in enumerate(inputs):\n",
    "    xs[t] = one_hot(ix, input_size)\n",
    "    hs[t] = np.tanh(Wxh @ xs[t] + Whh @ hs[t-1] + bh)\n",
    "    os[t] = Why @ hs[t] + by\n",
    "    ps[t] = softmax(os[t])\n",
    "    print(f\"Giá trị thứ {t} của input là:\\n{xs[t]}\\nCó hidden state thứ {t} là:\\n{hs[t]}\")\n",
    "    print(f\"Output thứ {t} của input thứ {t} là:\\n {os[t]}\\nCó xác suất:\\n {ps[t]}\")\n",
    "    print(\"---------------------------------------------------------\")"
   ]
  },
  {
   "cell_type": "code",
   "execution_count": null,
   "id": "e8aa788d",
   "metadata": {},
   "outputs": [],
   "source": []
  }
 ],
 "metadata": {
  "kernelspec": {
   "display_name": "duong_kernel_2",
   "language": "python",
   "name": "duong_kernel_2"
  },
  "language_info": {
   "codemirror_mode": {
    "name": "ipython",
    "version": 3
   },
   "file_extension": ".py",
   "mimetype": "text/x-python",
   "name": "python",
   "nbconvert_exporter": "python",
   "pygments_lexer": "ipython3",
   "version": "3.10.0"
  }
 },
 "nbformat": 4,
 "nbformat_minor": 5
}

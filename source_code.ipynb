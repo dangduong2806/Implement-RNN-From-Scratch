{
 "cells": [
  {
   "cell_type": "code",
   "execution_count": 2,
   "id": "be94a10b",
   "metadata": {},
   "outputs": [],
   "source": [
    "# Ý tưởng:\n",
    "# Biểu diễn mỗi ký tự bằng one-hot\n",
    "# Ở mỗi bước t:\n",
    "#     Thực hiện tính công thức trạng thái ẩn\n",
    "#     Đầu ra đưa qua softmax\n",
    "#     loss là cross-entropy loss\n",
    "# Backpropagation: Tính gradient từ T -> 1, cộng dồn qua thời gian\n",
    "# Có gradient clipping tránh nổ gradient\n",
    "import numpy as np"
   ]
  },
  {
   "cell_type": "code",
   "execution_count": 3,
   "id": "16a7bc76",
   "metadata": {},
   "outputs": [],
   "source": [
    "def one_hot(idx, vocab_size):\n",
    "    # vector v có vocab_size hàng và 1 cột\n",
    "    v = np.zeros((vocab_size, 1))\n",
    "    # Cả hàng idx sẽ toàn giá trị 1.0\n",
    "    v[idx] = 1.0\n",
    "    return v\n",
    "def softmax(z):\n",
    "    exp = np.exp(z)\n",
    "    return exp / np.sum(exp)\n"
   ]
  },
  {
   "cell_type": "code",
   "execution_count": 4,
   "id": "c95f1038",
   "metadata": {},
   "outputs": [
    {
     "data": {
      "text/plain": [
       "array([[0., 0.],\n",
       "       [1., 1.],\n",
       "       [0., 0.]])"
      ]
     },
     "execution_count": 4,
     "metadata": {},
     "output_type": "execute_result"
    }
   ],
   "source": [
    "v = np.zeros((3, 2))\n",
    "v[1] = 1.0\n",
    "v"
   ]
  },
  {
   "cell_type": "code",
   "execution_count": null,
   "id": "c1442ed7",
   "metadata": {},
   "outputs": [],
   "source": [
    "# RNN thuần\n",
    "class RNN:\n",
    "    def __init__(self, input_size, hidden_size, output_size):\n",
    "        self.input_size = input_size\n",
    "        self.hidden_size = hidden_size\n",
    "        self.output_size = output_size\n",
    "        # Khởi tạo trọng số gồm value + và -\n",
    "        s = 0.01\n",
    "        # ma trận gồm hidden_size hàng, input_size cột\n",
    "        self.Wxh = np.random.randn(hidden_size, input_size) * s\n",
    "        # ma trận gồm hidden_size hàng, hidden_size cột\n",
    "        self.Whh = np.random.randn(hidden_size, hidden_size) * s\n",
    "        self.bh = np.zeros((hidden_size, 1))\n",
    "        # ma trận gồm output_size hàng, hidden_size cột\n",
    "        self.Why = np.random.randn(output_size, hidden_size) * s\n",
    "        self.by = np.zeros((output_size, 1))\n",
    "    def params(self):\n",
    "        return {\n",
    "            \"Wxh\": self.Wxh, \"Whh\": self.Whh, \"bh\": self.bh,\n",
    "            \"Why\": self.Why, \"by\": self.by\n",
    "        }\n",
    "    def forward(self, inputs, prev_hidden_state):\n",
    "        # inputs: list chỉ số của ký tự [x1, x2,...]\n",
    "        # prev_hidden_state : hidden state ban đầu\n",
    "        # return cache(xs, hs, os, ps) và hidden last\n",
    "        # xs, hs, os, ps chứa các xt, ht, ot, pt trong công thức của RNN\n",
    "        xs, hs, os, ps = {}, {}, {}, {}\n",
    "        # hidden state trước t = 0\n",
    "        hs[-1] = np.copy(prev_hidden_state)\n",
    "        loss = 0.0\n",
    "        for t, ix in enumerate(inputs):\n",
    "            xs[t] = one_hot(ix, self.input_size)\n",
    "            hs[t] = np.tanh(self.Wxh @ xs[t] + self.Whh @ hs[t-1] + self.bh)\n",
    "            os[t] = self.Why @ hs[t] + self.by\n",
    "            ps[t] = softmax(os[t])\n",
    "        cache = (xs, hs, os, ps)\n",
    "        # trả về hidden state cuối cùng làm input cho batch tiếp theo\n",
    "        # trả về cache để tính backpropagation\n",
    "        return cache, hs[len(inputs)-1]"
   ]
  },
  {
   "cell_type": "code",
   "execution_count": 26,
   "id": "3342e65b",
   "metadata": {},
   "outputs": [
    {
     "data": {
      "text/plain": [
       "array([[ 0.80579132, -0.90663356,  0.37308253,  1.16266981, -0.89835884],\n",
       "       [-0.810582  ,  0.32257693,  1.01016125,  2.06237602, -0.11625224],\n",
       "       [ 0.39497624, -0.85410169,  0.82109994, -0.3229887 ,  0.46284877]])"
      ]
     },
     "execution_count": 26,
     "metadata": {},
     "output_type": "execute_result"
    }
   ],
   "source": [
    "wxh = np.random.randn(3, 5)\n",
    "wxh"
   ]
  },
  {
   "cell_type": "code",
   "execution_count": 14,
   "id": "f11478e4",
   "metadata": {},
   "outputs": [
    {
     "name": "stdout",
     "output_type": "stream",
     "text": [
      "Wxh (hidden size, input size): \n",
      " [[-0.00042016  0.00357459  0.03410074  0.00546874]\n",
      " [ 0.00519983 -0.01778254  0.02237733  0.00146076]\n",
      " [-0.00726405  0.00468883  0.00584563  0.00294953]] \n",
      "\n",
      "Whh (hidden size, hidden size):\n",
      " [[-0.00361037 -0.00688821  0.00387512]\n",
      " [ 0.00329453  0.00275857  0.00398298]\n",
      " [-0.00901703  0.01193357 -0.01026172]] \n",
      "\n",
      "bh (hidden size):\n",
      " [[0.]\n",
      " [0.]\n",
      " [0.]] \n",
      "\n",
      "Why (output size, hidden size): \n",
      " [[-0.02105567 -0.02204825  0.00102543]\n",
      " [-0.00441272 -0.01103623 -0.01846537]\n",
      " [-0.02391485 -0.02176742  0.01963459]\n",
      " [ 0.01702913 -0.00356572 -0.01715876]] \n",
      "\n",
      "by (output size): \n",
      " [[0.]\n",
      " [0.]\n",
      " [0.]\n",
      " [0.]] \n",
      "\n"
     ]
    }
   ],
   "source": [
    "s = 0.01\n",
    "input_size = 4\n",
    "hidden_size = 3\n",
    "output_size = input_size\n",
    "# ma trận gồm hidden_size hàng, input_size cột\n",
    "Wxh = np.random.randn(hidden_size, input_size) * s\n",
    "print(\"Wxh (hidden size, input size): \\n\",Wxh,\"\\n\")\n",
    "# ma trận gồm hidden_size hàng, hidden_size cột\n",
    "Whh = np.random.randn(hidden_size, hidden_size) * s\n",
    "print(\"Whh (hidden size, hidden size):\\n\",Whh, \"\\n\")\n",
    "bh = np.zeros((hidden_size, 1))\n",
    "print(\"bh (hidden size):\\n\",bh, \"\\n\")\n",
    "# ma trận gồm output_size hàng, hidden_size cột\n",
    "Why = np.random.randn(output_size, hidden_size) * s\n",
    "print(\"Why (output size, hidden size): \\n\",Why, \"\\n\")\n",
    "by = np.zeros((output_size, 1))\n",
    "print(\"by (output size): \\n\",by, \"\\n\")"
   ]
  },
  {
   "cell_type": "code",
   "execution_count": 23,
   "id": "2fedf5bb",
   "metadata": {},
   "outputs": [
    {
     "name": "stdout",
     "output_type": "stream",
     "text": [
      "giá trị thứ 0 của input và hidden state thứ 0 của input:\n",
      " [[0.]\n",
      " [1.]\n",
      " [0.]\n",
      " [0.]] \n",
      " [[ 0.00357458]\n",
      " [-0.01778066]\n",
      " [ 0.0046888 ]]\n",
      "\n",
      "\n",
      "giá trị thứ 1 của input và hidden state thứ 1 của input:\n",
      " [[0.]\n",
      " [0.]\n",
      " [1.]\n",
      " [0.]] \n",
      " [[0.03421512]\n",
      " [0.02235501]\n",
      " [0.00555303]]\n",
      "\n",
      "\n",
      "giá trị thứ 2 của input và hidden state thứ 2 của input:\n",
      " [[0.]\n",
      " [0.]\n",
      " [0.]\n",
      " [1.]] \n",
      " [[0.00521269]\n",
      " [0.00165727]\n",
      " [0.0028508 ]]\n",
      "\n",
      "\n",
      "{-1: array([[0.],\n",
      "       [0.],\n",
      "       [0.]]), 0: array([[ 0.00357458],\n",
      "       [-0.01778066],\n",
      "       [ 0.0046888 ]]), 1: array([[0.03421512],\n",
      "       [0.02235501],\n",
      "       [0.00555303]]), 2: array([[0.00521269],\n",
      "       [0.00165727],\n",
      "       [0.0028508 ]])}\n"
     ]
    }
   ],
   "source": [
    "inputs = [1, 2, 3]\n",
    "input_size = 4\n",
    "xs, hs, os, ps = {}, {}, {}, {}\n",
    "hs[-1] = np.zeros((hidden_size,1))\n",
    "for t, ix in enumerate(inputs):\n",
    "    xs[t] = one_hot(ix, input_size)\n",
    "    hs[t] = np.tanh(Wxh @ xs[t] + Whh @ hs[t-1] + bh)\n",
    "    print(\"giá trị thứ\",t,\"của input và hidden state thứ\",t,\"của input:\\n\",xs[t],\"\\n\",hs[t])\n",
    "    print(\"\\n\")\n",
    "print(hs)"
   ]
  }
 ],
 "metadata": {
  "kernelspec": {
   "display_name": "duong_kernel_2",
   "language": "python",
   "name": "duong_kernel_2"
  },
  "language_info": {
   "codemirror_mode": {
    "name": "ipython",
    "version": 3
   },
   "file_extension": ".py",
   "mimetype": "text/x-python",
   "name": "python",
   "nbconvert_exporter": "python",
   "pygments_lexer": "ipython3",
   "version": "3.10.0"
  }
 },
 "nbformat": 4,
 "nbformat_minor": 5
}

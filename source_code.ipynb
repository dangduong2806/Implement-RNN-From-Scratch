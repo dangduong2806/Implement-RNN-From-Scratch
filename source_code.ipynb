{
 "cells": [
  {
   "cell_type": "code",
   "execution_count": 1,
   "id": "be94a10b",
   "metadata": {},
   "outputs": [],
   "source": [
    "# Ý tưởng:\n",
    "# Biểu diễn mỗi ký tự bằng one-hot\n",
    "# Ở mỗi bước t:\n",
    "#     Thực hiện tính công thức trạng thái ẩn\n",
    "#     Đầu ra đưa qua softmax\n",
    "#     loss là cross-entropy loss\n",
    "# Backpropagation: Tính gradient từ T -> 1, cộng dồn qua thời gian\n",
    "# Có gradient clipping tránh nổ gradient\n",
    "import numpy as np"
   ]
  },
  {
   "cell_type": "code",
   "execution_count": 8,
   "id": "16a7bc76",
   "metadata": {},
   "outputs": [],
   "source": [
    "def one_hot(idx, vocab_size):\n",
    "    # vector v có vocab_size hàng và 1 cột\n",
    "    v = np.zeros((vocab_size, 1))\n",
    "    # Cả hàng idx sẽ toàn giá trị 1.0\n",
    "    v[idx] = 1.0\n",
    "    return v\n",
    "def softmax(z):\n",
    "    exp = np.exp(z)\n",
    "    return exp / np.sum(exp)\n"
   ]
  },
  {
   "cell_type": "code",
   "execution_count": 7,
   "id": "c95f1038",
   "metadata": {},
   "outputs": [
    {
     "data": {
      "text/plain": [
       "array([[0., 0.],\n",
       "       [1., 1.],\n",
       "       [0., 0.]])"
      ]
     },
     "execution_count": 7,
     "metadata": {},
     "output_type": "execute_result"
    }
   ],
   "source": [
    "v = np.zeros((3, 2))\n",
    "v[1] = 1.0\n",
    "v"
   ]
  },
  {
   "cell_type": "code",
   "execution_count": null,
   "id": "c1442ed7",
   "metadata": {},
   "outputs": [],
   "source": [
    "# RNN thuần\n",
    "class RNN:\n",
    "    def __init__(self, input_size, hidden_size, output_size):\n",
    "        self.input_size = input_size\n",
    "        self.hidden_size = hidden_size\n",
    "        self.output_size = output_size\n",
    "        # Khởi tạo trọng số gồm value + và -\n",
    "        s = 0.01\n",
    "        # ma trận gồm hidden_size hàng, input_size cột\n",
    "        self.Wxh = np.random.randn(hidden_size, input_size) * s\n",
    "        # ma trận gồm hidden_size hàng, hidden_size cột\n",
    "        self.Whh = np.random.randn(hidden_size, hidden_size) * s\n",
    "        self.bh = np.zeros((hidden_size, 1))\n",
    "        # ma trận gồm output_size hàng, hidden_size cột\n",
    "        self.Why = np.random.randn(output_size, hidden_size) * s\n",
    "        self.by = np.zeros((output_size, 1))\n",
    "    def params(self):\n",
    "        return {\n",
    "            \"Wxh\": self.Wxh, \"Whh\": self.Whh, \"bh\": self.bh,\n",
    "            \"Why\": self.Why, \"by\": self.by\n",
    "        }\n",
    "    def forward(self, inputs, prev_hidden_state):\n",
    "        \n"
   ]
  },
  {
   "cell_type": "code",
   "execution_count": 26,
   "id": "3342e65b",
   "metadata": {},
   "outputs": [
    {
     "data": {
      "text/plain": [
       "array([[ 0.80579132, -0.90663356,  0.37308253,  1.16266981, -0.89835884],\n",
       "       [-0.810582  ,  0.32257693,  1.01016125,  2.06237602, -0.11625224],\n",
       "       [ 0.39497624, -0.85410169,  0.82109994, -0.3229887 ,  0.46284877]])"
      ]
     },
     "execution_count": 26,
     "metadata": {},
     "output_type": "execute_result"
    }
   ],
   "source": [
    "wxh = np.random.randn(3, 5)\n",
    "wxh"
   ]
  }
 ],
 "metadata": {
  "kernelspec": {
   "display_name": "duong_kernel_2",
   "language": "python",
   "name": "duong_kernel_2"
  },
  "language_info": {
   "codemirror_mode": {
    "name": "ipython",
    "version": 3
   },
   "file_extension": ".py",
   "mimetype": "text/x-python",
   "name": "python",
   "nbconvert_exporter": "python",
   "pygments_lexer": "ipython3",
   "version": "3.10.0"
  }
 },
 "nbformat": 4,
 "nbformat_minor": 5
}
